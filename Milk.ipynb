{
 "cells": [
  {
   "cell_type": "code",
   "execution_count": 21,
   "metadata": {},
   "outputs": [
    {
     "name": "stdout",
     "output_type": "stream",
     "text": [
      "0000000000000000000000000000000000000000000000000000000000000000000000000000000000000000000001100100\n"
     ]
    }
   ],
   "source": [
    "import math\n",
    "import bitarray\n",
    "num = 100\n",
    "bits = int(max(100, math.log(num, 2)+1))\n",
    "out = map(str, (1 if num & (1 << (bits-1-n)) else 0 for n in range(bits)))\n",
    "print(''.join(out))"
   ]
  },
  {
   "cell_type": "code",
   "execution_count": 22,
   "metadata": {},
   "outputs": [],
   "source": [
    "import math\n",
    "from decimal import Decimal\n",
    "\n",
    "def check_difference(pref, ava):\n",
    "    diff = 0\n",
    "    for p in pref:\n",
    "        p_ = [int(x) for x in p]\n",
    "        \n",
    "        for i in range(len(ava)):\n",
    "            if ava[i] != p_[i]:\n",
    "                diff += 1\n",
    "    return diff\n",
    "\n",
    "def count_complaints(preferences, forbiddens, num_options):\n",
    "    forb_options = list()\n",
    "    for forb in forbiddens:\n",
    "        forb_options.append([int(i) for i in forb])\n",
    "    \n",
    "    first = [0] * num_options;\n",
    "    if first not in forb_options:\n",
    "        complaints = check_difference(preferences, first)  \n",
    "    else:\n",
    "        complaints = Decimal('Infinity')\n",
    "    \n",
    "    for i in range(1, 2 ** num_options, 1):\n",
    "        bits = int(max(num_options, math.log(i, 2) + 1))\n",
    "        gen_opt = [1 if i & (1 << (bits - 1 - n)) else 0 for n in range(bits)]\n",
    "        if gen_opt not in forb_options:\n",
    "            comp = check_difference(preferences, gen_opt)\n",
    "            if comp < complaints:\n",
    "                complaints = comp\n",
    "\n",
    "    return complaints\n",
    "\n",
    "\n",
    "if __name__ == \"__main__\":\n",
    "    # Read number of test cases\n",
    "    num_cases = int(input())\n",
    "\n",
    "    for tc in range(1, num_cases + 1):\n",
    "        # Read number of friends, number of forbidden teas, and number of options\n",
    "        num_friends, num_forbidden, num_options = map(int, input().split())\n",
    "\n",
    "        # Read the friends' preferences\n",
    "        preferences = [input() for _ in range(num_friends)]\n",
    "\n",
    "        # Read the forbidden teas\n",
    "        forbiddens = [input() for _ in range(num_forbidden)]\n",
    "\n",
    "        print(\"Case #%d: %d\" % (tc, count_complaints(preferences, forbiddens, num_options)))\n"
   ]
  }
 ],
 "metadata": {
  "interpreter": {
   "hash": "fe610729788b7d083e2a91bafdebf5c83070aba17cda01d77f154bfd2ee16d61"
  },
  "kernelspec": {
   "display_name": "Python 3.8.6 32-bit",
   "language": "python",
   "name": "python3"
  },
  "language_info": {
   "codemirror_mode": {
    "name": "ipython",
    "version": 3
   },
   "file_extension": ".py",
   "mimetype": "text/x-python",
   "name": "python",
   "nbconvert_exporter": "python",
   "pygments_lexer": "ipython3",
   "version": "3.8.6"
  },
  "orig_nbformat": 4
 },
 "nbformat": 4,
 "nbformat_minor": 2
}
