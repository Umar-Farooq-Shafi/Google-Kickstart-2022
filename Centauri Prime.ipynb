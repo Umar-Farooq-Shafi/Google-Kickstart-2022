{
 "cells": [
  {
   "cell_type": "code",
   "execution_count": 24,
   "metadata": {},
   "outputs": [
    {
     "name": "stdout",
     "output_type": "stream",
     "text": [
      "Case #1: Mollaristan is ruled by Bob.\n",
      "Case #2: AuritaniA. is ruled by Alice.\n",
      "Case #3: ZizilY is ruled by nobody.\n"
     ]
    }
   ],
   "source": [
    "# It should be either 'Alice', 'Bob' or 'nobody'.\n",
    "def get_ruler(kingdom: str):\n",
    "    # the vowels characters\n",
    "    vowels: set = [\"A\", \"E\", \"I\", \"O\", \"U\", \"a\", \"e\", \"i\", \"o\", \"u\"]\n",
    "\n",
    "    # If the character is a vowel, return 'Alice'\n",
    "    if kingdom[len(kingdom) - 1] in vowels:\n",
    "        return \"Alice\"\n",
    "    # the next consonant is not a vowel, return 'nobody'\n",
    "    elif kingdom[len(kingdom) - 1] == \"y\" or kingdom[len(kingdom) - 1] == \"Y\":\n",
    "        return \"nobody\"\n",
    "    # the consonants characters, return 'Bob'\n",
    "    else:\n",
    "        return \"Bob\"\n",
    "\n",
    "\n",
    "if __name__ == \"__main__\":\n",
    "    # Get the number of test cases\n",
    "    T = int(input())\n",
    "    for t in range(T):\n",
    "        # Get the kingdom\n",
    "        kingdom: str = str(input()).strip()\n",
    "        print(\"Case #%d: %s is ruled by %s.\" % (t + 1, kingdom, get_ruler(kingdom)))\n"
   ]
  }
 ],
 "metadata": {
  "interpreter": {
   "hash": "fe610729788b7d083e2a91bafdebf5c83070aba17cda01d77f154bfd2ee16d61"
  },
  "kernelspec": {
   "display_name": "Python 3.8.6 32-bit",
   "language": "python",
   "name": "python3"
  },
  "language_info": {
   "codemirror_mode": {
    "name": "ipython",
    "version": 3
   },
   "file_extension": ".py",
   "mimetype": "text/x-python",
   "name": "python",
   "nbconvert_exporter": "python",
   "pygments_lexer": "ipython3",
   "version": "3.8.6"
  },
  "orig_nbformat": 4
 },
 "nbformat": 4,
 "nbformat_minor": 2
}
