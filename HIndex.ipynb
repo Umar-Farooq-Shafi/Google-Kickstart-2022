{
 "cells": [
  {
   "cell_type": "markdown",
   "metadata": {},
   "source": [
    "Google brute force solution O(N^2)"
   ]
  },
  {
   "cell_type": "code",
   "execution_count": 6,
   "metadata": {},
   "outputs": [],
   "source": [
    "def score(h_index: int, A: list):\n",
    "    return sum(A[h_index:])"
   ]
  },
  {
   "cell_type": "code",
   "execution_count": null,
   "metadata": {},
   "outputs": [],
   "source": [
    "def calculate_h_index(N: int, citations: list):\n",
    "    A = [0] * (N + 1)\n",
    "    ans = []\n",
    "    h_index = 0\n",
    "    \n",
    "    for i in range(N):\n",
    "        A[N if citations[i]>N else citations[i]] += 1\n",
    "        j = i + 1\n",
    "        while j > h_index and j:\n",
    "            if (score(j, A) >= j):\n",
    "                h_index = j\n",
    "                break\n",
    "            j -= 1\n",
    "        ans.append(h_index)\n",
    "    return ans\n",
    "\n",
    "if __name__ == \"__main__\":\n",
    "    T = int(input())\n",
    "    for i in range(T):\n",
    "        N = int(input())\n",
    "        citations = list(map(int, input().split()))\n",
    "        print(\"Case #{}: {}\".format(i+1, calculate_h_index(N, citations)))"
   ]
  },
  {
   "cell_type": "markdown",
   "metadata": {},
   "source": [
    "O(N*log(N))"
   ]
  },
  {
   "cell_type": "code",
   "execution_count": null,
   "metadata": {},
   "outputs": [],
   "source": [
    "import heapq\n",
    "\n",
    "def calculate_hIndex(N: int, citations: list):\n",
    "    heap = []\n",
    "    ans = []\n",
    "    h_index = 0\n",
    "    for i in range(N):\n",
    "        if citations[i] > h_index:\n",
    "            heapq.heappush(heap, citations[i])\n",
    "        while heap and heap[0] <= h_index:\n",
    "            heapq.heappop(heap)\n",
    "        if len(heap) >= h_index + 1:\n",
    "            h_index += 1\n",
    "        ans.append(h_index)\n",
    "    return ans"
   ]
  },
  {
   "cell_type": "code",
   "execution_count": 15,
   "metadata": {},
   "outputs": [
    {
     "name": "stdout",
     "output_type": "stream",
     "text": [
      "[0, 1, 0, 0, 0, 0, 0]\n",
      "j: 1\n",
      "1\n",
      "[0, 1, 0, 1, 0, 0, 0]\n",
      "j: 2\n",
      "1\n",
      "[0, 1, 0, 2, 0, 0, 0]\n",
      "j: 3\n",
      "2\n",
      "[0, 1, 1, 2, 0, 0, 0]\n",
      "j: 4\n",
      "2\n",
      "[0, 1, 2, 2, 0, 0, 0]\n",
      "j: 5\n",
      "2\n",
      "[0, 1, 2, 2, 0, 0, 1]\n",
      "j: 6\n",
      "3\n"
     ]
    }
   ],
   "source": [
    "N = 6\n",
    "A = [0] * (N + 1)\n",
    "citations = [1, 3, 3, 2, 2, 15]\n",
    "h_index = 0\n",
    "for i in range(N):\n",
    "    A[N if citations[i] > N else citations[i]] += 1\n",
    "    print(A)\n",
    "    j = i + 1\n",
    "    print(\"j: %d\" % j)\n",
    "    while j > h_index and j:\n",
    "        if score(j, A) >= j:\n",
    "            h_index = j\n",
    "            break\n",
    "        j -= 1\n",
    "    print(h_index)\n"
   ]
  }
 ],
 "metadata": {
  "interpreter": {
   "hash": "fe610729788b7d083e2a91bafdebf5c83070aba17cda01d77f154bfd2ee16d61"
  },
  "kernelspec": {
   "display_name": "Python 3.8.6 32-bit",
   "language": "python",
   "name": "python3"
  },
  "language_info": {
   "codemirror_mode": {
    "name": "ipython",
    "version": 3
   },
   "file_extension": ".py",
   "mimetype": "text/x-python",
   "name": "python",
   "nbconvert_exporter": "python",
   "pygments_lexer": "ipython3",
   "version": "3.8.6"
  },
  "orig_nbformat": 4
 },
 "nbformat": 4,
 "nbformat_minor": 2
}
