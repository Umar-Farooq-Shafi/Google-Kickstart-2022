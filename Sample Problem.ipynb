{
 "cells": [
  {
   "cell_type": "code",
   "execution_count": 10,
   "metadata": {},
   "outputs": [],
   "source": [
    "def sum(candy_bags, candy_counts):\n",
    "    total_candies = 0\n",
    "    for i in range(candy_bags):\n",
    "        total_candies += candy_counts[i]\n",
    "    return total_candies"
   ]
  },
  {
   "cell_type": "code",
   "execution_count": 11,
   "metadata": {},
   "outputs": [],
   "source": [
    "def processcase(case_num):\n",
    "    (num_candy_bags, num_children) = tuple([int(x) for x in input().split()])\n",
    "    candy_counts = list([int(x) for x in input().split()])\n",
    "    \n",
    "    amount_remaining = sum(num_candy_bags, candy_counts) % num_children\n",
    "    \n",
    "    print(\"Case #{}: {}\".format(case_num, amount_remaining))\n",
    "    "
   ]
  },
  {
   "cell_type": "code",
   "execution_count": 12,
   "metadata": {},
   "outputs": [
    {
     "name": "stdout",
     "output_type": "stream",
     "text": [
      "Case #1: 1\n",
      "Case #2: 5\n"
     ]
    }
   ],
   "source": [
    "num_cases = int(input())\n",
    "for i in range(num_cases):\n",
    "    processcase(i+1)"
   ]
  }
 ],
 "metadata": {
  "interpreter": {
   "hash": "fe610729788b7d083e2a91bafdebf5c83070aba17cda01d77f154bfd2ee16d61"
  },
  "kernelspec": {
   "display_name": "Python 3.8.6 32-bit",
   "language": "python",
   "name": "python3"
  },
  "language_info": {
   "codemirror_mode": {
    "name": "ipython",
    "version": 3
   },
   "file_extension": ".py",
   "mimetype": "text/x-python",
   "name": "python",
   "nbconvert_exporter": "python",
   "pygments_lexer": "ipython3",
   "version": "3.8.6"
  },
  "orig_nbformat": 4
 },
 "nbformat": 4,
 "nbformat_minor": 2
}
